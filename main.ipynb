{
 "cells": [
  {
   "cell_type": "markdown",
   "metadata": {},
   "source": [
    "# BT4012 Fraud Analytics Project"
   ]
  },
  {
   "cell_type": "code",
   "execution_count": 46,
   "metadata": {},
   "outputs": [],
   "source": [
    "import pandas as pd\n",
    "import numpy as np\n",
    "import matplotlib.pyplot as plt\n",
    "import seaborn as sns\n",
    "from datetime import datetime"
   ]
  },
  {
   "cell_type": "markdown",
   "metadata": {},
   "source": [
    "## Importing Data"
   ]
  },
  {
   "cell_type": "code",
   "execution_count": 47,
   "metadata": {},
   "outputs": [
    {
     "data": {
      "text/html": [
       "<div>\n",
       "<style scoped>\n",
       "    .dataframe tbody tr th:only-of-type {\n",
       "        vertical-align: middle;\n",
       "    }\n",
       "\n",
       "    .dataframe tbody tr th {\n",
       "        vertical-align: top;\n",
       "    }\n",
       "\n",
       "    .dataframe thead th {\n",
       "        text-align: right;\n",
       "    }\n",
       "</style>\n",
       "<table border=\"1\" class=\"dataframe\">\n",
       "  <thead>\n",
       "    <tr style=\"text-align: right;\">\n",
       "      <th></th>\n",
       "      <th>trans_date_trans_time</th>\n",
       "      <th>cc_num</th>\n",
       "      <th>merchant</th>\n",
       "      <th>category</th>\n",
       "      <th>amt</th>\n",
       "      <th>first</th>\n",
       "      <th>last</th>\n",
       "      <th>gender</th>\n",
       "      <th>street</th>\n",
       "      <th>city</th>\n",
       "      <th>...</th>\n",
       "      <th>lat</th>\n",
       "      <th>long</th>\n",
       "      <th>city_pop</th>\n",
       "      <th>job</th>\n",
       "      <th>dob</th>\n",
       "      <th>trans_num</th>\n",
       "      <th>unix_time</th>\n",
       "      <th>merch_lat</th>\n",
       "      <th>merch_long</th>\n",
       "      <th>is_fraud</th>\n",
       "    </tr>\n",
       "  </thead>\n",
       "  <tbody>\n",
       "    <tr>\n",
       "      <th>0</th>\n",
       "      <td>2019-01-01 00:00:18</td>\n",
       "      <td>2703186189652095</td>\n",
       "      <td>fraud_Rippin, Kub and Mann</td>\n",
       "      <td>misc_net</td>\n",
       "      <td>4.97</td>\n",
       "      <td>Jennifer</td>\n",
       "      <td>Banks</td>\n",
       "      <td>F</td>\n",
       "      <td>561 Perry Cove</td>\n",
       "      <td>Moravian Falls</td>\n",
       "      <td>...</td>\n",
       "      <td>36.0788</td>\n",
       "      <td>-81.1781</td>\n",
       "      <td>3495</td>\n",
       "      <td>Psychologist, counselling</td>\n",
       "      <td>1988-03-09</td>\n",
       "      <td>0b242abb623afc578575680df30655b9</td>\n",
       "      <td>1325376018</td>\n",
       "      <td>36.011293</td>\n",
       "      <td>-82.048315</td>\n",
       "      <td>0</td>\n",
       "    </tr>\n",
       "    <tr>\n",
       "      <th>1</th>\n",
       "      <td>2019-01-01 00:00:44</td>\n",
       "      <td>630423337322</td>\n",
       "      <td>fraud_Heller, Gutmann and Zieme</td>\n",
       "      <td>grocery_pos</td>\n",
       "      <td>107.23</td>\n",
       "      <td>Stephanie</td>\n",
       "      <td>Gill</td>\n",
       "      <td>F</td>\n",
       "      <td>43039 Riley Greens Suite 393</td>\n",
       "      <td>Orient</td>\n",
       "      <td>...</td>\n",
       "      <td>48.8878</td>\n",
       "      <td>-118.2105</td>\n",
       "      <td>149</td>\n",
       "      <td>Special educational needs teacher</td>\n",
       "      <td>1978-06-21</td>\n",
       "      <td>1f76529f8574734946361c461b024d99</td>\n",
       "      <td>1325376044</td>\n",
       "      <td>49.159047</td>\n",
       "      <td>-118.186462</td>\n",
       "      <td>0</td>\n",
       "    </tr>\n",
       "    <tr>\n",
       "      <th>2</th>\n",
       "      <td>2019-01-01 00:00:51</td>\n",
       "      <td>38859492057661</td>\n",
       "      <td>fraud_Lind-Buckridge</td>\n",
       "      <td>entertainment</td>\n",
       "      <td>220.11</td>\n",
       "      <td>Edward</td>\n",
       "      <td>Sanchez</td>\n",
       "      <td>M</td>\n",
       "      <td>594 White Dale Suite 530</td>\n",
       "      <td>Malad City</td>\n",
       "      <td>...</td>\n",
       "      <td>42.1808</td>\n",
       "      <td>-112.2620</td>\n",
       "      <td>4154</td>\n",
       "      <td>Nature conservation officer</td>\n",
       "      <td>1962-01-19</td>\n",
       "      <td>a1a22d70485983eac12b5b88dad1cf95</td>\n",
       "      <td>1325376051</td>\n",
       "      <td>43.150704</td>\n",
       "      <td>-112.154481</td>\n",
       "      <td>0</td>\n",
       "    </tr>\n",
       "    <tr>\n",
       "      <th>3</th>\n",
       "      <td>2019-01-01 00:01:16</td>\n",
       "      <td>3534093764340240</td>\n",
       "      <td>fraud_Kutch, Hermiston and Farrell</td>\n",
       "      <td>gas_transport</td>\n",
       "      <td>45.00</td>\n",
       "      <td>Jeremy</td>\n",
       "      <td>White</td>\n",
       "      <td>M</td>\n",
       "      <td>9443 Cynthia Court Apt. 038</td>\n",
       "      <td>Boulder</td>\n",
       "      <td>...</td>\n",
       "      <td>46.2306</td>\n",
       "      <td>-112.1138</td>\n",
       "      <td>1939</td>\n",
       "      <td>Patent attorney</td>\n",
       "      <td>1967-01-12</td>\n",
       "      <td>6b849c168bdad6f867558c3793159a81</td>\n",
       "      <td>1325376076</td>\n",
       "      <td>47.034331</td>\n",
       "      <td>-112.561071</td>\n",
       "      <td>0</td>\n",
       "    </tr>\n",
       "    <tr>\n",
       "      <th>4</th>\n",
       "      <td>2019-01-01 00:03:06</td>\n",
       "      <td>375534208663984</td>\n",
       "      <td>fraud_Keeling-Crist</td>\n",
       "      <td>misc_pos</td>\n",
       "      <td>41.96</td>\n",
       "      <td>Tyler</td>\n",
       "      <td>Garcia</td>\n",
       "      <td>M</td>\n",
       "      <td>408 Bradley Rest</td>\n",
       "      <td>Doe Hill</td>\n",
       "      <td>...</td>\n",
       "      <td>38.4207</td>\n",
       "      <td>-79.4629</td>\n",
       "      <td>99</td>\n",
       "      <td>Dance movement psychotherapist</td>\n",
       "      <td>1986-03-28</td>\n",
       "      <td>a41d7549acf90789359a9aa5346dcb46</td>\n",
       "      <td>1325376186</td>\n",
       "      <td>38.674999</td>\n",
       "      <td>-78.632459</td>\n",
       "      <td>0</td>\n",
       "    </tr>\n",
       "  </tbody>\n",
       "</table>\n",
       "<p>5 rows × 22 columns</p>\n",
       "</div>"
      ],
      "text/plain": [
       "  trans_date_trans_time            cc_num                            merchant   \n",
       "0   2019-01-01 00:00:18  2703186189652095          fraud_Rippin, Kub and Mann  \\\n",
       "1   2019-01-01 00:00:44      630423337322     fraud_Heller, Gutmann and Zieme   \n",
       "2   2019-01-01 00:00:51    38859492057661                fraud_Lind-Buckridge   \n",
       "3   2019-01-01 00:01:16  3534093764340240  fraud_Kutch, Hermiston and Farrell   \n",
       "4   2019-01-01 00:03:06   375534208663984                 fraud_Keeling-Crist   \n",
       "\n",
       "        category     amt      first     last gender   \n",
       "0       misc_net    4.97   Jennifer    Banks      F  \\\n",
       "1    grocery_pos  107.23  Stephanie     Gill      F   \n",
       "2  entertainment  220.11     Edward  Sanchez      M   \n",
       "3  gas_transport   45.00     Jeremy    White      M   \n",
       "4       misc_pos   41.96      Tyler   Garcia      M   \n",
       "\n",
       "                         street            city  ...      lat      long   \n",
       "0                561 Perry Cove  Moravian Falls  ...  36.0788  -81.1781  \\\n",
       "1  43039 Riley Greens Suite 393          Orient  ...  48.8878 -118.2105   \n",
       "2      594 White Dale Suite 530      Malad City  ...  42.1808 -112.2620   \n",
       "3   9443 Cynthia Court Apt. 038         Boulder  ...  46.2306 -112.1138   \n",
       "4              408 Bradley Rest        Doe Hill  ...  38.4207  -79.4629   \n",
       "\n",
       "   city_pop                                job         dob   \n",
       "0      3495          Psychologist, counselling  1988-03-09  \\\n",
       "1       149  Special educational needs teacher  1978-06-21   \n",
       "2      4154        Nature conservation officer  1962-01-19   \n",
       "3      1939                    Patent attorney  1967-01-12   \n",
       "4        99     Dance movement psychotherapist  1986-03-28   \n",
       "\n",
       "                          trans_num   unix_time  merch_lat  merch_long   \n",
       "0  0b242abb623afc578575680df30655b9  1325376018  36.011293  -82.048315  \\\n",
       "1  1f76529f8574734946361c461b024d99  1325376044  49.159047 -118.186462   \n",
       "2  a1a22d70485983eac12b5b88dad1cf95  1325376051  43.150704 -112.154481   \n",
       "3  6b849c168bdad6f867558c3793159a81  1325376076  47.034331 -112.561071   \n",
       "4  a41d7549acf90789359a9aa5346dcb46  1325376186  38.674999  -78.632459   \n",
       "\n",
       "   is_fraud  \n",
       "0         0  \n",
       "1         0  \n",
       "2         0  \n",
       "3         0  \n",
       "4         0  \n",
       "\n",
       "[5 rows x 22 columns]"
      ]
     },
     "execution_count": 47,
     "metadata": {},
     "output_type": "execute_result"
    }
   ],
   "source": [
    "train = pd.read_csv(\"fraudTrain.csv\", index_col=0)\n",
    "train.head()\n"
   ]
  },
  {
   "cell_type": "code",
   "execution_count": 48,
   "metadata": {},
   "outputs": [
    {
     "name": "stdout",
     "output_type": "stream",
     "text": [
      "<class 'pandas.core.frame.DataFrame'>\n",
      "Index: 1296675 entries, 0 to 1296674\n",
      "Data columns (total 22 columns):\n",
      " #   Column                 Non-Null Count    Dtype  \n",
      "---  ------                 --------------    -----  \n",
      " 0   trans_date_trans_time  1296675 non-null  object \n",
      " 1   cc_num                 1296675 non-null  int64  \n",
      " 2   merchant               1296675 non-null  object \n",
      " 3   category               1296675 non-null  object \n",
      " 4   amt                    1296675 non-null  float64\n",
      " 5   first                  1296675 non-null  object \n",
      " 6   last                   1296675 non-null  object \n",
      " 7   gender                 1296675 non-null  object \n",
      " 8   street                 1296675 non-null  object \n",
      " 9   city                   1296675 non-null  object \n",
      " 10  state                  1296675 non-null  object \n",
      " 11  zip                    1296675 non-null  int64  \n",
      " 12  lat                    1296675 non-null  float64\n",
      " 13  long                   1296675 non-null  float64\n",
      " 14  city_pop               1296675 non-null  int64  \n",
      " 15  job                    1296675 non-null  object \n",
      " 16  dob                    1296675 non-null  object \n",
      " 17  trans_num              1296675 non-null  object \n",
      " 18  unix_time              1296675 non-null  int64  \n",
      " 19  merch_lat              1296675 non-null  float64\n",
      " 20  merch_long             1296675 non-null  float64\n",
      " 21  is_fraud               1296675 non-null  int64  \n",
      "dtypes: float64(5), int64(5), object(12)\n",
      "memory usage: 227.5+ MB\n",
      "None\n"
     ]
    }
   ],
   "source": [
    "print(train.info())"
   ]
  },
  {
   "cell_type": "markdown",
   "metadata": {},
   "source": [
    "# EDA"
   ]
  },
  {
   "cell_type": "code",
   "execution_count": 49,
   "metadata": {},
   "outputs": [
    {
     "data": {
      "text/html": [
       "<div>\n",
       "<style scoped>\n",
       "    .dataframe tbody tr th:only-of-type {\n",
       "        vertical-align: middle;\n",
       "    }\n",
       "\n",
       "    .dataframe tbody tr th {\n",
       "        vertical-align: top;\n",
       "    }\n",
       "\n",
       "    .dataframe thead th {\n",
       "        text-align: right;\n",
       "    }\n",
       "</style>\n",
       "<table border=\"1\" class=\"dataframe\">\n",
       "  <thead>\n",
       "    <tr style=\"text-align: right;\">\n",
       "      <th></th>\n",
       "      <th>count</th>\n",
       "      <th>mean</th>\n",
       "      <th>std</th>\n",
       "      <th>min</th>\n",
       "      <th>25%</th>\n",
       "      <th>50%</th>\n",
       "      <th>75%</th>\n",
       "      <th>max</th>\n",
       "    </tr>\n",
       "  </thead>\n",
       "  <tbody>\n",
       "    <tr>\n",
       "      <th>cc_num</th>\n",
       "      <td>1296675.0</td>\n",
       "      <td>4.171920e+17</td>\n",
       "      <td>1.308806e+18</td>\n",
       "      <td>6.041621e+10</td>\n",
       "      <td>1.800429e+14</td>\n",
       "      <td>3.521417e+15</td>\n",
       "      <td>4.642255e+15</td>\n",
       "      <td>4.992346e+18</td>\n",
       "    </tr>\n",
       "    <tr>\n",
       "      <th>amt</th>\n",
       "      <td>1296675.0</td>\n",
       "      <td>7.035104e+01</td>\n",
       "      <td>1.603160e+02</td>\n",
       "      <td>1.000000e+00</td>\n",
       "      <td>9.650000e+00</td>\n",
       "      <td>4.752000e+01</td>\n",
       "      <td>8.314000e+01</td>\n",
       "      <td>2.894890e+04</td>\n",
       "    </tr>\n",
       "    <tr>\n",
       "      <th>zip</th>\n",
       "      <td>1296675.0</td>\n",
       "      <td>4.880067e+04</td>\n",
       "      <td>2.689322e+04</td>\n",
       "      <td>1.257000e+03</td>\n",
       "      <td>2.623700e+04</td>\n",
       "      <td>4.817400e+04</td>\n",
       "      <td>7.204200e+04</td>\n",
       "      <td>9.978300e+04</td>\n",
       "    </tr>\n",
       "    <tr>\n",
       "      <th>lat</th>\n",
       "      <td>1296675.0</td>\n",
       "      <td>3.853762e+01</td>\n",
       "      <td>5.075808e+00</td>\n",
       "      <td>2.002710e+01</td>\n",
       "      <td>3.462050e+01</td>\n",
       "      <td>3.935430e+01</td>\n",
       "      <td>4.194040e+01</td>\n",
       "      <td>6.669330e+01</td>\n",
       "    </tr>\n",
       "    <tr>\n",
       "      <th>long</th>\n",
       "      <td>1296675.0</td>\n",
       "      <td>-9.022634e+01</td>\n",
       "      <td>1.375908e+01</td>\n",
       "      <td>-1.656723e+02</td>\n",
       "      <td>-9.679800e+01</td>\n",
       "      <td>-8.747690e+01</td>\n",
       "      <td>-8.015800e+01</td>\n",
       "      <td>-6.795030e+01</td>\n",
       "    </tr>\n",
       "    <tr>\n",
       "      <th>city_pop</th>\n",
       "      <td>1296675.0</td>\n",
       "      <td>8.882444e+04</td>\n",
       "      <td>3.019564e+05</td>\n",
       "      <td>2.300000e+01</td>\n",
       "      <td>7.430000e+02</td>\n",
       "      <td>2.456000e+03</td>\n",
       "      <td>2.032800e+04</td>\n",
       "      <td>2.906700e+06</td>\n",
       "    </tr>\n",
       "    <tr>\n",
       "      <th>unix_time</th>\n",
       "      <td>1296675.0</td>\n",
       "      <td>1.349244e+09</td>\n",
       "      <td>1.284128e+07</td>\n",
       "      <td>1.325376e+09</td>\n",
       "      <td>1.338751e+09</td>\n",
       "      <td>1.349250e+09</td>\n",
       "      <td>1.359385e+09</td>\n",
       "      <td>1.371817e+09</td>\n",
       "    </tr>\n",
       "    <tr>\n",
       "      <th>merch_lat</th>\n",
       "      <td>1296675.0</td>\n",
       "      <td>3.853734e+01</td>\n",
       "      <td>5.109788e+00</td>\n",
       "      <td>1.902779e+01</td>\n",
       "      <td>3.473357e+01</td>\n",
       "      <td>3.936568e+01</td>\n",
       "      <td>4.195716e+01</td>\n",
       "      <td>6.751027e+01</td>\n",
       "    </tr>\n",
       "    <tr>\n",
       "      <th>merch_long</th>\n",
       "      <td>1296675.0</td>\n",
       "      <td>-9.022646e+01</td>\n",
       "      <td>1.377109e+01</td>\n",
       "      <td>-1.666712e+02</td>\n",
       "      <td>-9.689728e+01</td>\n",
       "      <td>-8.743839e+01</td>\n",
       "      <td>-8.023680e+01</td>\n",
       "      <td>-6.695090e+01</td>\n",
       "    </tr>\n",
       "    <tr>\n",
       "      <th>is_fraud</th>\n",
       "      <td>1296675.0</td>\n",
       "      <td>5.788652e-03</td>\n",
       "      <td>7.586269e-02</td>\n",
       "      <td>0.000000e+00</td>\n",
       "      <td>0.000000e+00</td>\n",
       "      <td>0.000000e+00</td>\n",
       "      <td>0.000000e+00</td>\n",
       "      <td>1.000000e+00</td>\n",
       "    </tr>\n",
       "  </tbody>\n",
       "</table>\n",
       "</div>"
      ],
      "text/plain": [
       "                count          mean           std           min           25%   \n",
       "cc_num      1296675.0  4.171920e+17  1.308806e+18  6.041621e+10  1.800429e+14  \\\n",
       "amt         1296675.0  7.035104e+01  1.603160e+02  1.000000e+00  9.650000e+00   \n",
       "zip         1296675.0  4.880067e+04  2.689322e+04  1.257000e+03  2.623700e+04   \n",
       "lat         1296675.0  3.853762e+01  5.075808e+00  2.002710e+01  3.462050e+01   \n",
       "long        1296675.0 -9.022634e+01  1.375908e+01 -1.656723e+02 -9.679800e+01   \n",
       "city_pop    1296675.0  8.882444e+04  3.019564e+05  2.300000e+01  7.430000e+02   \n",
       "unix_time   1296675.0  1.349244e+09  1.284128e+07  1.325376e+09  1.338751e+09   \n",
       "merch_lat   1296675.0  3.853734e+01  5.109788e+00  1.902779e+01  3.473357e+01   \n",
       "merch_long  1296675.0 -9.022646e+01  1.377109e+01 -1.666712e+02 -9.689728e+01   \n",
       "is_fraud    1296675.0  5.788652e-03  7.586269e-02  0.000000e+00  0.000000e+00   \n",
       "\n",
       "                     50%           75%           max  \n",
       "cc_num      3.521417e+15  4.642255e+15  4.992346e+18  \n",
       "amt         4.752000e+01  8.314000e+01  2.894890e+04  \n",
       "zip         4.817400e+04  7.204200e+04  9.978300e+04  \n",
       "lat         3.935430e+01  4.194040e+01  6.669330e+01  \n",
       "long       -8.747690e+01 -8.015800e+01 -6.795030e+01  \n",
       "city_pop    2.456000e+03  2.032800e+04  2.906700e+06  \n",
       "unix_time   1.349250e+09  1.359385e+09  1.371817e+09  \n",
       "merch_lat   3.936568e+01  4.195716e+01  6.751027e+01  \n",
       "merch_long -8.743839e+01 -8.023680e+01 -6.695090e+01  \n",
       "is_fraud    0.000000e+00  0.000000e+00  1.000000e+00  "
      ]
     },
     "execution_count": 49,
     "metadata": {},
     "output_type": "execute_result"
    }
   ],
   "source": [
    "train.describe().T"
   ]
  },
  {
   "cell_type": "code",
   "execution_count": 50,
   "metadata": {},
   "outputs": [
    {
     "data": {
      "image/png": "[encoded data removed]",
      "text/plain": [
       "<Figure size 640x480 with 1 Axes>"
      ]
     },
     "metadata": {},
     "output_type": "display_data"
    }
   ],
   "source": [
    "ratio = train[\"is_fraud\"].value_counts() / len(train) *100\n",
    "ratio\n",
    "\n",
    "bar_plot = plt.bar(ratio.index, ratio.values)\n",
    "plt.xlabel(\"Value\")\n",
    "plt.ylabel(\"Percentage\")\n",
    "plt.title(\"Percentage of non-fraud vs fraud\")\n",
    "plt.xticks(ratio.index, labels=[\"Non-Fraud (0)\", \"Fraud (1)\"])\n",
    "\n",
    "# Display the ratio on top of the bars\n",
    "for bar, value in zip(bar_plot, ratio.values):\n",
    "    plt.text(bar.get_x() + bar.get_width() / 2, bar.get_height(), f\"{value:.1f}\", ha=\"center\", va=\"bottom\")\n",
    "\n",
    "plt.show()"
   ]
  },
  {
   "cell_type": "code",
   "execution_count": 51,
   "metadata": {},
   "outputs": [
    {
     "data": {
      "text/plain": [
       "<Axes: xlabel='amt', ylabel='Density'>"
      ]
     },
     "execution_count": 51,
     "metadata": {},
     "output_type": "execute_result"
    },
    {
     "data": {
      "image/png": "[encoded data removed]",
      "text/plain": [
       "<Figure size 640x480 with 1 Axes>"
      ]
     },
     "metadata": {},
     "output_type": "display_data"
    }
   ],
   "source": [
    "sns.kdeplot(data=train['amt'])"
   ]
  },
  {
   "cell_type": "code",
   "execution_count": 52,
   "metadata": {},
   "outputs": [
    {
     "data": {
      "image/png": "[encoded data removed]",
      "text/plain": [
       "<Figure size 640x480 with 1 Axes>"
      ]
     },
     "metadata": {},
     "output_type": "display_data"
    }
   ],
   "source": [
    "sns.countplot(data=train, x='gender')\n",
    "plt.title('Distribution of Gender')\n",
    "plt.show()"
   ]
  },
  {
   "cell_type": "code",
   "execution_count": 53,
   "metadata": {},
   "outputs": [
    {
     "name": "stdout",
     "output_type": "stream",
     "text": [
      "total number duplicate users: 1295692\n"
     ]
    }
   ],
   "source": [
    "duplicates_count = dataset.duplicated(subset=[\"cc_num\"]).sum()\n",
    "print(f\"total number duplicate users: {duplicates_count}\")"
   ]
  },
  {
   "cell_type": "code",
   "execution_count": 54,
   "metadata": {},
   "outputs": [],
   "source": [
    "current_year = datetime.now().year\n",
    "train['dob'] = pd.to_datetime(train['dob'])\n",
    "train['age'] = current_year - train['dob'].dt.year"
   ]
  },
  {
   "cell_type": "code",
   "execution_count": 55,
   "metadata": {},
   "outputs": [
    {
     "name": "stderr",
     "output_type": "stream",
     "text": [
      "C:\\Users\\leejw\\AppData\\Local\\Temp\\ipykernel_16344\\2390741645.py:5: FutureWarning: \n",
      "\n",
      "`shade` is now deprecated in favor of `fill`; setting `fill=True`.\n",
      "This will become an error in seaborn v0.14.0; please update your code.\n",
      "\n",
      "  sns.kdeplot(train[train[\"is_fraud\"]==1][\"age\"], shade=True, color=\"blue\", label=\"Fraudulent\", ax=ax)\n",
      "C:\\Users\\leejw\\AppData\\Local\\Temp\\ipykernel_16344\\2390741645.py:6: FutureWarning: \n",
      "\n",
      "`shade` is now deprecated in favor of `fill`; setting `fill=True`.\n",
      "This will become an error in seaborn v0.14.0; please update your code.\n",
      "\n",
      "  sns.kdeplot(train[train[\"is_fraud\"]==0][\"age\"], shade=True, color=\"green\", label=\"Normal\", ax=ax)\n"
     ]
    },
    {
     "data": {
      "text/plain": [
       "Text(0.5, 0.98, 'Age vs Fraud Class')"
      ]
     },
     "execution_count": 55,
     "metadata": {},
     "output_type": "execute_result"
    },
    {
     "data": {
      "image/png": "[encoded data removed]",
      "text/plain": [
       "<Figure size 640x480 with 1 Axes>"
      ]
     },
     "metadata": {},
     "output_type": "display_data"
    }
   ],
   "source": [
    "# your code\n",
    "\n",
    "fig, ax = plt.subplots()\n",
    "\n",
    "sns.kdeplot(train[train[\"is_fraud\"]==1][\"age\"], shade=True, color=\"blue\", label=\"Fraudulent\", ax=ax)\n",
    "sns.kdeplot(train[train[\"is_fraud\"]==0][\"age\"], shade=True, color=\"green\", label=\"Normal\", ax=ax)\n",
    "\n",
    "ax.set_xlabel(\"Age\")\n",
    "ax.set_ylabel(\"Density\")\n",
    "\n",
    "fig.suptitle(\"Age vs Fraud Class\")"
   ]
  }
 ],
 "metadata": {
  "kernelspec": {
   "display_name": "Python 3",
   "language": "python",
   "name": "python3"
  },
  "language_info": {
   "codemirror_mode": {
    "name": "ipython",
    "version": 3
   },
   "file_extension": ".py",
   "mimetype": "text/x-python",
   "name": "python",
   "nbconvert_exporter": "python",
   "pygments_lexer": "ipython3",
   "version": "3.11.2"
  },
  "orig_nbformat": 4
 },
 "nbformat": 4,
 "nbformat_minor": 2
}
