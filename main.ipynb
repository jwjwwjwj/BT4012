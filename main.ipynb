{
 "cells": [
  {
   "cell_type": "markdown",
   "metadata": {},
   "source": [
    "# BT4012 Fraud Analytics Project"
   ]
  },
  {
   "cell_type": "code",
   "execution_count": 61,
   "metadata": {},
   "outputs": [],
   "source": [
    "import pandas as pd\n",
    "import numpy as np\n",
    "import matplotlib.pyplot as plt\n",
    "import seaborn as sns\n",
    "from datetime import datetime\n",
    "from sklearn.model_selection import train_test_split\n",
    "from scipy import stats"
   ]
  },
  {
   "cell_type": "markdown",
   "metadata": {},
   "source": [
    "## Importing Data"
   ]
  },
  {
   "cell_type": "code",
   "execution_count": 42,
   "metadata": {},
   "outputs": [],
   "source": [
    "old_train = pd.read_csv(\"fraudTrain.csv\", index_col=0)\n",
    "old_test = pd.read_csv(\"fraudTest.csv\", index_col=0)\n"
   ]
  },
  {
   "cell_type": "code",
   "execution_count": 43,
   "metadata": {},
   "outputs": [],
   "source": [
    "full_dataset = pd.concat([old_train, old_test]).reset_index(drop=True)\n",
    "train, intermediate = train_test_split(full_dataset, random_state=0, test_size=0.3)\n",
    "test, valid = train_test_split(intermediate, random_state=0, test_size = 2/3)"
   ]
  },
  {
   "cell_type": "code",
   "execution_count": 44,
   "metadata": {},
   "outputs": [
    {
     "data": {
      "text/html": [
       "<div>\n",
       "<style scoped>\n",
       "    .dataframe tbody tr th:only-of-type {\n",
       "        vertical-align: middle;\n",
       "    }\n",
       "\n",
       "    .dataframe tbody tr th {\n",
       "        vertical-align: top;\n",
       "    }\n",
       "\n",
       "    .dataframe thead th {\n",
       "        text-align: right;\n",
       "    }\n",
       "</style>\n",
       "<table border=\"1\" class=\"dataframe\">\n",
       "  <thead>\n",
       "    <tr style=\"text-align: right;\">\n",
       "      <th></th>\n",
       "      <th>trans_date_trans_time</th>\n",
       "      <th>cc_num</th>\n",
       "      <th>merchant</th>\n",
       "      <th>category</th>\n",
       "      <th>amt</th>\n",
       "      <th>first</th>\n",
       "      <th>last</th>\n",
       "      <th>gender</th>\n",
       "      <th>street</th>\n",
       "      <th>city</th>\n",
       "      <th>...</th>\n",
       "      <th>lat</th>\n",
       "      <th>long</th>\n",
       "      <th>city_pop</th>\n",
       "      <th>job</th>\n",
       "      <th>dob</th>\n",
       "      <th>trans_num</th>\n",
       "      <th>unix_time</th>\n",
       "      <th>merch_lat</th>\n",
       "      <th>merch_long</th>\n",
       "      <th>is_fraud</th>\n",
       "    </tr>\n",
       "  </thead>\n",
       "  <tbody>\n",
       "    <tr>\n",
       "      <th>456136</th>\n",
       "      <td>2019-07-21 08:34:47</td>\n",
       "      <td>4025612008285111</td>\n",
       "      <td>fraud_Langworth, Boehm and Gulgowski</td>\n",
       "      <td>shopping_net</td>\n",
       "      <td>3.30</td>\n",
       "      <td>Krystal</td>\n",
       "      <td>Key</td>\n",
       "      <td>F</td>\n",
       "      <td>23142 Montoya Island Apt. 742</td>\n",
       "      <td>Corsica</td>\n",
       "      <td>...</td>\n",
       "      <td>41.1762</td>\n",
       "      <td>-79.1976</td>\n",
       "      <td>1274</td>\n",
       "      <td>Maintenance engineer</td>\n",
       "      <td>1949-03-20</td>\n",
       "      <td>609a8c2791f637f3ac1aedc55911a6da</td>\n",
       "      <td>1342859687</td>\n",
       "      <td>40.903680</td>\n",
       "      <td>-79.606226</td>\n",
       "      <td>0</td>\n",
       "    </tr>\n",
       "    <tr>\n",
       "      <th>1786382</th>\n",
       "      <td>2020-12-17 07:03:16</td>\n",
       "      <td>4642894980163</td>\n",
       "      <td>fraud_Greenholt, Jacobi and Gleason</td>\n",
       "      <td>gas_transport</td>\n",
       "      <td>56.06</td>\n",
       "      <td>Eddie</td>\n",
       "      <td>Mendez</td>\n",
       "      <td>M</td>\n",
       "      <td>1831 Faith View Suite 653</td>\n",
       "      <td>Clarinda</td>\n",
       "      <td>...</td>\n",
       "      <td>40.7491</td>\n",
       "      <td>-95.0380</td>\n",
       "      <td>7297</td>\n",
       "      <td>IT trainer</td>\n",
       "      <td>1990-07-13</td>\n",
       "      <td>42cae72b8ae6f099ba27038e4e3a7f6b</td>\n",
       "      <td>1387263796</td>\n",
       "      <td>40.576635</td>\n",
       "      <td>-95.328714</td>\n",
       "      <td>0</td>\n",
       "    </tr>\n",
       "    <tr>\n",
       "      <th>516133</th>\n",
       "      <td>2019-08-11 12:18:21</td>\n",
       "      <td>342952484382519</td>\n",
       "      <td>fraud_Schiller, Blanda and Johnson</td>\n",
       "      <td>home</td>\n",
       "      <td>31.59</td>\n",
       "      <td>Kayla</td>\n",
       "      <td>Jones</td>\n",
       "      <td>F</td>\n",
       "      <td>6033 Young Track Suite 804</td>\n",
       "      <td>East Canaan</td>\n",
       "      <td>...</td>\n",
       "      <td>42.0158</td>\n",
       "      <td>-73.2913</td>\n",
       "      <td>647</td>\n",
       "      <td>Comptroller</td>\n",
       "      <td>1987-09-26</td>\n",
       "      <td>9932fc5175e5e996643106017f7837fa</td>\n",
       "      <td>1344687501</td>\n",
       "      <td>41.883074</td>\n",
       "      <td>-74.151101</td>\n",
       "      <td>0</td>\n",
       "    </tr>\n",
       "    <tr>\n",
       "      <th>1387558</th>\n",
       "      <td>2020-07-22 14:02:52</td>\n",
       "      <td>38199021865320</td>\n",
       "      <td>fraud_Cormier LLC</td>\n",
       "      <td>health_fitness</td>\n",
       "      <td>75.61</td>\n",
       "      <td>Jesse</td>\n",
       "      <td>Roberts</td>\n",
       "      <td>M</td>\n",
       "      <td>8415 Vaughn Squares Apt. 788</td>\n",
       "      <td>Acworth</td>\n",
       "      <td>...</td>\n",
       "      <td>43.1960</td>\n",
       "      <td>-72.3001</td>\n",
       "      <td>477</td>\n",
       "      <td>Naval architect</td>\n",
       "      <td>1988-04-15</td>\n",
       "      <td>9de51fb137c9b2e4dc3bf763ef3d2e4c</td>\n",
       "      <td>1374501772</td>\n",
       "      <td>42.554582</td>\n",
       "      <td>-71.888495</td>\n",
       "      <td>0</td>\n",
       "    </tr>\n",
       "    <tr>\n",
       "      <th>1105509</th>\n",
       "      <td>2020-04-05 09:29:27</td>\n",
       "      <td>676281772837</td>\n",
       "      <td>fraud_Rowe, Batz and Goodwin</td>\n",
       "      <td>grocery_pos</td>\n",
       "      <td>78.80</td>\n",
       "      <td>Alicia</td>\n",
       "      <td>Bishop</td>\n",
       "      <td>F</td>\n",
       "      <td>222 Freeman Islands</td>\n",
       "      <td>Whigham</td>\n",
       "      <td>...</td>\n",
       "      <td>30.8836</td>\n",
       "      <td>-84.3246</td>\n",
       "      <td>3430</td>\n",
       "      <td>Editor, commissioning</td>\n",
       "      <td>1950-03-25</td>\n",
       "      <td>4ac3dcb2533891924dc84eace661ce52</td>\n",
       "      <td>1365154167</td>\n",
       "      <td>30.126658</td>\n",
       "      <td>-84.274753</td>\n",
       "      <td>0</td>\n",
       "    </tr>\n",
       "  </tbody>\n",
       "</table>\n",
       "<p>5 rows × 22 columns</p>\n",
       "</div>"
      ],
      "text/plain": [
       "        trans_date_trans_time            cc_num  \\\n",
       "456136    2019-07-21 08:34:47  4025612008285111   \n",
       "1786382   2020-12-17 07:03:16     4642894980163   \n",
       "516133    2019-08-11 12:18:21   342952484382519   \n",
       "1387558   2020-07-22 14:02:52    38199021865320   \n",
       "1105509   2020-04-05 09:29:27      676281772837   \n",
       "\n",
       "                                     merchant        category    amt    first  \\\n",
       "456136   fraud_Langworth, Boehm and Gulgowski    shopping_net   3.30  Krystal   \n",
       "1786382   fraud_Greenholt, Jacobi and Gleason   gas_transport  56.06    Eddie   \n",
       "516133     fraud_Schiller, Blanda and Johnson            home  31.59    Kayla   \n",
       "1387558                     fraud_Cormier LLC  health_fitness  75.61    Jesse   \n",
       "1105509          fraud_Rowe, Batz and Goodwin     grocery_pos  78.80   Alicia   \n",
       "\n",
       "            last gender                         street         city  ...  \\\n",
       "456136       Key      F  23142 Montoya Island Apt. 742      Corsica  ...   \n",
       "1786382   Mendez      M      1831 Faith View Suite 653     Clarinda  ...   \n",
       "516133     Jones      F     6033 Young Track Suite 804  East Canaan  ...   \n",
       "1387558  Roberts      M   8415 Vaughn Squares Apt. 788      Acworth  ...   \n",
       "1105509   Bishop      F            222 Freeman Islands      Whigham  ...   \n",
       "\n",
       "             lat     long  city_pop                    job         dob  \\\n",
       "456136   41.1762 -79.1976      1274   Maintenance engineer  1949-03-20   \n",
       "1786382  40.7491 -95.0380      7297             IT trainer  1990-07-13   \n",
       "516133   42.0158 -73.2913       647            Comptroller  1987-09-26   \n",
       "1387558  43.1960 -72.3001       477        Naval architect  1988-04-15   \n",
       "1105509  30.8836 -84.3246      3430  Editor, commissioning  1950-03-25   \n",
       "\n",
       "                                trans_num   unix_time  merch_lat  merch_long  \\\n",
       "456136   609a8c2791f637f3ac1aedc55911a6da  1342859687  40.903680  -79.606226   \n",
       "1786382  42cae72b8ae6f099ba27038e4e3a7f6b  1387263796  40.576635  -95.328714   \n",
       "516133   9932fc5175e5e996643106017f7837fa  1344687501  41.883074  -74.151101   \n",
       "1387558  9de51fb137c9b2e4dc3bf763ef3d2e4c  1374501772  42.554582  -71.888495   \n",
       "1105509  4ac3dcb2533891924dc84eace661ce52  1365154167  30.126658  -84.274753   \n",
       "\n",
       "         is_fraud  \n",
       "456136          0  \n",
       "1786382         0  \n",
       "516133          0  \n",
       "1387558         0  \n",
       "1105509         0  \n",
       "\n",
       "[5 rows x 22 columns]"
      ]
     },
     "execution_count": 44,
     "metadata": {},
     "output_type": "execute_result"
    }
   ],
   "source": [
    "train.head()"
   ]
  },
  {
   "cell_type": "code",
   "execution_count": 45,
   "metadata": {},
   "outputs": [
    {
     "name": "stdout",
     "output_type": "stream",
     "text": [
      "<class 'pandas.core.frame.DataFrame'>\n",
      "Int64Index: 1296675 entries, 456136 to 305711\n",
      "Data columns (total 22 columns):\n",
      " #   Column                 Non-Null Count    Dtype  \n",
      "---  ------                 --------------    -----  \n",
      " 0   trans_date_trans_time  1296675 non-null  object \n",
      " 1   cc_num                 1296675 non-null  int64  \n",
      " 2   merchant               1296675 non-null  object \n",
      " 3   category               1296675 non-null  object \n",
      " 4   amt                    1296675 non-null  float64\n",
      " 5   first                  1296675 non-null  object \n",
      " 6   last                   1296675 non-null  object \n",
      " 7   gender                 1296675 non-null  object \n",
      " 8   street                 1296675 non-null  object \n",
      " 9   city                   1296675 non-null  object \n",
      " 10  state                  1296675 non-null  object \n",
      " 11  zip                    1296675 non-null  int64  \n",
      " 12  lat                    1296675 non-null  float64\n",
      " 13  long                   1296675 non-null  float64\n",
      " 14  city_pop               1296675 non-null  int64  \n",
      " 15  job                    1296675 non-null  object \n",
      " 16  dob                    1296675 non-null  object \n",
      " 17  trans_num              1296675 non-null  object \n",
      " 18  unix_time              1296675 non-null  int64  \n",
      " 19  merch_lat              1296675 non-null  float64\n",
      " 20  merch_long             1296675 non-null  float64\n",
      " 21  is_fraud               1296675 non-null  int64  \n",
      "dtypes: float64(5), int64(5), object(12)\n",
      "memory usage: 227.5+ MB\n",
      "None\n"
     ]
    }
   ],
   "source": [
    "print(train.info())"
   ]
  },
  {
   "cell_type": "markdown",
   "metadata": {},
   "source": [
    "# EDA"
   ]
  },
  {
   "cell_type": "code",
   "execution_count": 46,
   "metadata": {},
   "outputs": [
    {
     "data": {
      "text/html": [
       "<div>\n",
       "<style scoped>\n",
       "    .dataframe tbody tr th:only-of-type {\n",
       "        vertical-align: middle;\n",
       "    }\n",
       "\n",
       "    .dataframe tbody tr th {\n",
       "        vertical-align: top;\n",
       "    }\n",
       "\n",
       "    .dataframe thead th {\n",
       "        text-align: right;\n",
       "    }\n",
       "</style>\n",
       "<table border=\"1\" class=\"dataframe\">\n",
       "  <thead>\n",
       "    <tr style=\"text-align: right;\">\n",
       "      <th></th>\n",
       "      <th>count</th>\n",
       "      <th>mean</th>\n",
       "      <th>std</th>\n",
       "      <th>min</th>\n",
       "      <th>25%</th>\n",
       "      <th>50%</th>\n",
       "      <th>75%</th>\n",
       "      <th>max</th>\n",
       "    </tr>\n",
       "  </thead>\n",
       "  <tbody>\n",
       "    <tr>\n",
       "      <th>cc_num</th>\n",
       "      <td>1296675.0</td>\n",
       "      <td>4.176007e+17</td>\n",
       "      <td>1.309380e+18</td>\n",
       "      <td>6.041621e+10</td>\n",
       "      <td>1.800429e+14</td>\n",
       "      <td>3.521417e+15</td>\n",
       "      <td>4.642255e+15</td>\n",
       "      <td>4.992346e+18</td>\n",
       "    </tr>\n",
       "    <tr>\n",
       "      <th>amt</th>\n",
       "      <td>1296675.0</td>\n",
       "      <td>7.008490e+01</td>\n",
       "      <td>1.628042e+02</td>\n",
       "      <td>1.000000e+00</td>\n",
       "      <td>9.630000e+00</td>\n",
       "      <td>4.741000e+01</td>\n",
       "      <td>8.304000e+01</td>\n",
       "      <td>2.894890e+04</td>\n",
       "    </tr>\n",
       "    <tr>\n",
       "      <th>zip</th>\n",
       "      <td>1296675.0</td>\n",
       "      <td>4.881636e+04</td>\n",
       "      <td>2.687663e+04</td>\n",
       "      <td>1.257000e+03</td>\n",
       "      <td>2.623700e+04</td>\n",
       "      <td>4.817400e+04</td>\n",
       "      <td>7.201100e+04</td>\n",
       "      <td>9.992100e+04</td>\n",
       "    </tr>\n",
       "    <tr>\n",
       "      <th>lat</th>\n",
       "      <td>1296675.0</td>\n",
       "      <td>3.854065e+01</td>\n",
       "      <td>5.070134e+00</td>\n",
       "      <td>2.002710e+01</td>\n",
       "      <td>3.466890e+01</td>\n",
       "      <td>3.935430e+01</td>\n",
       "      <td>4.194040e+01</td>\n",
       "      <td>6.669330e+01</td>\n",
       "    </tr>\n",
       "    <tr>\n",
       "      <th>long</th>\n",
       "      <td>1296675.0</td>\n",
       "      <td>-9.023144e+01</td>\n",
       "      <td>1.374897e+01</td>\n",
       "      <td>-1.656723e+02</td>\n",
       "      <td>-9.679800e+01</td>\n",
       "      <td>-8.747690e+01</td>\n",
       "      <td>-8.017520e+01</td>\n",
       "      <td>-6.795030e+01</td>\n",
       "    </tr>\n",
       "    <tr>\n",
       "      <th>city_pop</th>\n",
       "      <td>1296675.0</td>\n",
       "      <td>8.836546e+04</td>\n",
       "      <td>3.010802e+05</td>\n",
       "      <td>2.300000e+01</td>\n",
       "      <td>7.410000e+02</td>\n",
       "      <td>2.435000e+03</td>\n",
       "      <td>2.032800e+04</td>\n",
       "      <td>2.906700e+06</td>\n",
       "    </tr>\n",
       "    <tr>\n",
       "      <th>unix_time</th>\n",
       "      <td>1296675.0</td>\n",
       "      <td>1.358677e+09</td>\n",
       "      <td>1.820237e+07</td>\n",
       "      <td>1.325376e+09</td>\n",
       "      <td>1.342999e+09</td>\n",
       "      <td>1.357093e+09</td>\n",
       "      <td>1.374592e+09</td>\n",
       "      <td>1.388534e+09</td>\n",
       "    </tr>\n",
       "    <tr>\n",
       "      <th>merch_lat</th>\n",
       "      <td>1296675.0</td>\n",
       "      <td>3.854014e+01</td>\n",
       "      <td>5.104269e+00</td>\n",
       "      <td>1.902779e+01</td>\n",
       "      <td>3.474414e+01</td>\n",
       "      <td>3.936965e+01</td>\n",
       "      <td>4.195856e+01</td>\n",
       "      <td>6.751027e+01</td>\n",
       "    </tr>\n",
       "    <tr>\n",
       "      <th>merch_long</th>\n",
       "      <td>1296675.0</td>\n",
       "      <td>-9.023124e+01</td>\n",
       "      <td>1.376077e+01</td>\n",
       "      <td>-1.666712e+02</td>\n",
       "      <td>-9.690138e+01</td>\n",
       "      <td>-8.744308e+01</td>\n",
       "      <td>-8.024942e+01</td>\n",
       "      <td>-6.695090e+01</td>\n",
       "    </tr>\n",
       "    <tr>\n",
       "      <th>is_fraud</th>\n",
       "      <td>1296675.0</td>\n",
       "      <td>5.175545e-03</td>\n",
       "      <td>7.175488e-02</td>\n",
       "      <td>0.000000e+00</td>\n",
       "      <td>0.000000e+00</td>\n",
       "      <td>0.000000e+00</td>\n",
       "      <td>0.000000e+00</td>\n",
       "      <td>1.000000e+00</td>\n",
       "    </tr>\n",
       "  </tbody>\n",
       "</table>\n",
       "</div>"
      ],
      "text/plain": [
       "                count          mean           std           min           25%  \\\n",
       "cc_num      1296675.0  4.176007e+17  1.309380e+18  6.041621e+10  1.800429e+14   \n",
       "amt         1296675.0  7.008490e+01  1.628042e+02  1.000000e+00  9.630000e+00   \n",
       "zip         1296675.0  4.881636e+04  2.687663e+04  1.257000e+03  2.623700e+04   \n",
       "lat         1296675.0  3.854065e+01  5.070134e+00  2.002710e+01  3.466890e+01   \n",
       "long        1296675.0 -9.023144e+01  1.374897e+01 -1.656723e+02 -9.679800e+01   \n",
       "city_pop    1296675.0  8.836546e+04  3.010802e+05  2.300000e+01  7.410000e+02   \n",
       "unix_time   1296675.0  1.358677e+09  1.820237e+07  1.325376e+09  1.342999e+09   \n",
       "merch_lat   1296675.0  3.854014e+01  5.104269e+00  1.902779e+01  3.474414e+01   \n",
       "merch_long  1296675.0 -9.023124e+01  1.376077e+01 -1.666712e+02 -9.690138e+01   \n",
       "is_fraud    1296675.0  5.175545e-03  7.175488e-02  0.000000e+00  0.000000e+00   \n",
       "\n",
       "                     50%           75%           max  \n",
       "cc_num      3.521417e+15  4.642255e+15  4.992346e+18  \n",
       "amt         4.741000e+01  8.304000e+01  2.894890e+04  \n",
       "zip         4.817400e+04  7.201100e+04  9.992100e+04  \n",
       "lat         3.935430e+01  4.194040e+01  6.669330e+01  \n",
       "long       -8.747690e+01 -8.017520e+01 -6.795030e+01  \n",
       "city_pop    2.435000e+03  2.032800e+04  2.906700e+06  \n",
       "unix_time   1.357093e+09  1.374592e+09  1.388534e+09  \n",
       "merch_lat   3.936965e+01  4.195856e+01  6.751027e+01  \n",
       "merch_long -8.744308e+01 -8.024942e+01 -6.695090e+01  \n",
       "is_fraud    0.000000e+00  0.000000e+00  1.000000e+00  "
      ]
     },
     "execution_count": 46,
     "metadata": {},
     "output_type": "execute_result"
    }
   ],
   "source": [
    "train.describe().T"
   ]
  },
  {
   "cell_type": "code",
   "execution_count": 47,
   "metadata": {},
   "outputs": [
    {
     "data": {
      "image/png": "[encoded data removed]",
      "text/plain": [
       "<Figure size 432x288 with 1 Axes>"
      ]
     },
     "metadata": {
      "needs_background": "light"
     },
     "output_type": "display_data"
    }
   ],
   "source": [
    "ratio = train[\"is_fraud\"].value_counts() / len(train) *100\n",
    "ratio\n",
    "\n",
    "bar_plot = plt.bar(ratio.index, ratio.values)\n",
    "plt.xlabel(\"Value\")\n",
    "plt.ylabel(\"Percentage\")\n",
    "plt.title(\"Percentage of non-fraud vs fraud\")\n",
    "plt.xticks(ratio.index, labels=[\"Non-Fraud (0)\", \"Fraud (1)\"])\n",
    "\n",
    "# Display the ratio on top of the bars\n",
    "for bar, value in zip(bar_plot, ratio.values):\n",
    "    plt.text(bar.get_x() + bar.get_width() / 2, bar.get_height(), f\"{value:.1f}\", ha=\"center\", va=\"bottom\")\n",
    "\n",
    "plt.show()"
   ]
  },
  {
   "cell_type": "code",
   "execution_count": 48,
   "metadata": {},
   "outputs": [
    {
     "data": {
      "text/plain": [
       "<AxesSubplot:xlabel='amt', ylabel='Density'>"
      ]
     },
     "execution_count": 48,
     "metadata": {},
     "output_type": "execute_result"
    },
    {
     "data": {
      "image/png": "[encoded data removed]",
      "text/plain": [
       "<Figure size 432x288 with 1 Axes>"
      ]
     },
     "metadata": {
      "needs_background": "light"
     },
     "output_type": "display_data"
    }
   ],
   "source": [
    "quantile_95 = train['amt'].quantile(0.95)\n",
    "filtered_data = train[train['amt'] <= quantile_95]['amt']\n",
    "\n",
    "sns.kdeplot(data=filtered_data)"
   ]
  },
  {
   "cell_type": "code",
   "execution_count": 49,
   "metadata": {},
   "outputs": [
    {
     "data": {
      "image/png": "[encoded data removed]",
      "text/plain": [
       "<Figure size 432x288 with 1 Axes>"
      ]
     },
     "metadata": {
      "needs_background": "light"
     },
     "output_type": "display_data"
    }
   ],
   "source": [
    "sns.countplot(data=train, x='gender')\n",
    "plt.title('Distribution of Gender')\n",
    "plt.show()"
   ]
  },
  {
   "cell_type": "code",
   "execution_count": 50,
   "metadata": {},
   "outputs": [
    {
     "name": "stdout",
     "output_type": "stream",
     "text": [
      "total number duplicate users: 1295676\n"
     ]
    }
   ],
   "source": [
    "duplicates_count = train.duplicated(subset=[\"cc_num\"]).sum()\n",
    "print(f\"total number duplicate users: {duplicates_count}\")"
   ]
  },
  {
   "cell_type": "code",
   "execution_count": 51,
   "metadata": {},
   "outputs": [
    {
     "data": {
      "text/plain": [
       "Text(0.5, 0.98, 'Age vs Fraud Class')"
      ]
     },
     "execution_count": 51,
     "metadata": {},
     "output_type": "execute_result"
    },
    {
     "data": {
      "image/png": "[encoded data removed]",
      "text/plain": [
       "<Figure size 432x288 with 1 Axes>"
      ]
     },
     "metadata": {
      "needs_background": "light"
     },
     "output_type": "display_data"
    }
   ],
   "source": [
    "current_year = datetime.now().year\n",
    "train['dob'] = pd.to_datetime(train['dob'])\n",
    "train['age'] = current_year - train['dob'].dt.year\n",
    "\n",
    "fig, ax = plt.subplots()\n",
    "\n",
    "sns.kdeplot(train[train[\"is_fraud\"]==1][\"age\"], fill=True, color=\"blue\", label=\"Fraudulent\", ax=ax)\n",
    "sns.kdeplot(train[train[\"is_fraud\"]==0][\"age\"], fill=True, color=\"green\", label=\"Normal\", ax=ax)\n",
    "\n",
    "ax.set_xlabel(\"Age\")\n",
    "ax.set_ylabel(\"Density\")\n",
    "\n",
    "fig.suptitle(\"Age vs Fraud Class\")"
   ]
  },
  {
   "cell_type": "code",
   "execution_count": 52,
   "metadata": {},
   "outputs": [
    {
     "data": {
      "text/plain": [
       "Text(0.5, 0.98, 'Amount vs Fraud Class')"
      ]
     },
     "execution_count": 52,
     "metadata": {},
     "output_type": "execute_result"
    },
    {
     "data": {
      "image/png": "[encoded data removed]",
      "text/plain": [
       "<Figure size 432x288 with 1 Axes>"
      ]
     },
     "metadata": {
      "needs_background": "light"
     },
     "output_type": "display_data"
    }
   ],
   "source": [
    "fig, ax = plt.subplots()\n",
    "\n",
    "sns.kdeplot(train[train[\"is_fraud\"]==1][\"amt\"], fill=True, color=\"blue\", label=\"Fraudulent\", ax=ax)\n",
    "sns.kdeplot(train[train[\"is_fraud\"]==0][\"amt\"], fill=True, color=\"green\", label=\"Normal\", ax=ax)\n",
    "\n",
    "ax.set_xlabel(\"Amount\")\n",
    "ax.set_ylabel(\"Density\")\n",
    "\n",
    "fig.suptitle(\"Amount vs Fraud Class\")"
   ]
  },
  {
   "cell_type": "code",
   "execution_count": 53,
   "metadata": {},
   "outputs": [
    {
     "data": {
      "text/plain": [
       "Text(0.5, 0.98, 'Amount vs Fraud Class')"
      ]
     },
     "execution_count": 53,
     "metadata": {},
     "output_type": "execute_result"
    },
    {
     "data": {
      "image/png": "[encoded data removed]",
      "text/plain": [
       "<Figure size 432x288 with 1 Axes>"
      ]
     },
     "metadata": {
      "needs_background": "light"
     },
     "output_type": "display_data"
    }
   ],
   "source": [
    "fig, ax = plt.subplots()\n",
    "\n",
    "train['log_amt'] = np.log1p(train['amt']) # Use log(1+x) to handle cases where amount is 0\n",
    "sns.kdeplot(train[train[\"is_fraud\"]==1][\"log_amt\"], fill=True, color=\"blue\", label=\"Fraudulent\", ax=ax)\n",
    "sns.kdeplot(train[train[\"is_fraud\"]==0][\"log_amt\"], fill=True, color=\"green\", label=\"Normal\", ax=ax)\n",
    "ax.set_xlabel(\"Log(Amount)\")\n",
    "ax.set_ylabel(\"Density\")\n",
    "\n",
    "fig.suptitle(\"Amount vs Fraud Class\")\n"
   ]
  },
  {
   "cell_type": "code",
   "execution_count": 54,
   "metadata": {},
   "outputs": [
    {
     "data": {
      "text/plain": [
       "<AxesSubplot:xlabel='is_fraud', ylabel='amt'>"
      ]
     },
     "execution_count": 54,
     "metadata": {},
     "output_type": "execute_result"
    },
    {
     "data": {
      "image/png": "[encoded data removed]",
      "text/plain": [
       "<Figure size 432x288 with 1 Axes>"
      ]
     },
     "metadata": {
      "needs_background": "light"
     },
     "output_type": "display_data"
    }
   ],
   "source": [
    "sns.boxplot(x=\"is_fraud\", y=\"amt\", data=train)"
   ]
  },
  {
   "cell_type": "code",
   "execution_count": 68,
   "metadata": {},
   "outputs": [],
   "source": [
    "numerical_variables = [\"cc_num\", \"amt\", \"zip\", \"lat\", \"long\", \"city_pop\",\"unix_time\", \"merch_lat\", \"merch_long\", \"is_fraud\"]\n",
    "cat_variables = [\"merchant\", \"category\", \"first\", \"last\", \"gender\", \"street\", \"city\", \"state\", \"job\",\"dob\",\"trans_num\"] \n",
    "remaining_variable = [\"trans_date\"]"
   ]
  },
  {
   "cell_type": "markdown",
   "metadata": {},
   "source": [
    "Quantile Analysis"
   ]
  },
  {
   "cell_type": "code",
   "execution_count": 58,
   "metadata": {},
   "outputs": [
    {
     "data": {
      "text/html": [
       "<div>\n",
       "<style scoped>\n",
       "    .dataframe tbody tr th:only-of-type {\n",
       "        vertical-align: middle;\n",
       "    }\n",
       "\n",
       "    .dataframe tbody tr th {\n",
       "        vertical-align: top;\n",
       "    }\n",
       "\n",
       "    .dataframe thead th {\n",
       "        text-align: right;\n",
       "    }\n",
       "</style>\n",
       "<table border=\"1\" class=\"dataframe\">\n",
       "  <thead>\n",
       "    <tr style=\"text-align: right;\">\n",
       "      <th></th>\n",
       "      <th>min</th>\n",
       "      <th>Q1</th>\n",
       "      <th>Q2</th>\n",
       "      <th>Q3</th>\n",
       "      <th>max</th>\n",
       "      <th>range</th>\n",
       "      <th>IQR</th>\n",
       "    </tr>\n",
       "  </thead>\n",
       "  <tbody>\n",
       "    <tr>\n",
       "      <th>cc_num</th>\n",
       "      <td>6.041621e+10</td>\n",
       "      <td>1.800429e+14</td>\n",
       "      <td>3.521417e+15</td>\n",
       "      <td>4.642255e+15</td>\n",
       "      <td>4.992346e+18</td>\n",
       "      <td>4.992346e+18</td>\n",
       "      <td>4.462213e+15</td>\n",
       "    </tr>\n",
       "    <tr>\n",
       "      <th>amt</th>\n",
       "      <td>1.000000e+00</td>\n",
       "      <td>9.630000e+00</td>\n",
       "      <td>4.741000e+01</td>\n",
       "      <td>8.304000e+01</td>\n",
       "      <td>2.894890e+04</td>\n",
       "      <td>2.894790e+04</td>\n",
       "      <td>7.341000e+01</td>\n",
       "    </tr>\n",
       "    <tr>\n",
       "      <th>zip</th>\n",
       "      <td>1.257000e+03</td>\n",
       "      <td>2.623700e+04</td>\n",
       "      <td>4.817400e+04</td>\n",
       "      <td>7.201100e+04</td>\n",
       "      <td>9.992100e+04</td>\n",
       "      <td>9.866400e+04</td>\n",
       "      <td>4.577400e+04</td>\n",
       "    </tr>\n",
       "    <tr>\n",
       "      <th>lat</th>\n",
       "      <td>2.002710e+01</td>\n",
       "      <td>3.466890e+01</td>\n",
       "      <td>3.935430e+01</td>\n",
       "      <td>4.194040e+01</td>\n",
       "      <td>6.669330e+01</td>\n",
       "      <td>4.666620e+01</td>\n",
       "      <td>7.271500e+00</td>\n",
       "    </tr>\n",
       "    <tr>\n",
       "      <th>long</th>\n",
       "      <td>-1.656723e+02</td>\n",
       "      <td>-9.679800e+01</td>\n",
       "      <td>-8.747690e+01</td>\n",
       "      <td>-8.017520e+01</td>\n",
       "      <td>-6.795030e+01</td>\n",
       "      <td>9.772200e+01</td>\n",
       "      <td>1.662280e+01</td>\n",
       "    </tr>\n",
       "    <tr>\n",
       "      <th>city_pop</th>\n",
       "      <td>2.300000e+01</td>\n",
       "      <td>7.410000e+02</td>\n",
       "      <td>2.435000e+03</td>\n",
       "      <td>2.032800e+04</td>\n",
       "      <td>2.906700e+06</td>\n",
       "      <td>2.906677e+06</td>\n",
       "      <td>1.958700e+04</td>\n",
       "    </tr>\n",
       "    <tr>\n",
       "      <th>unix_time</th>\n",
       "      <td>1.325376e+09</td>\n",
       "      <td>1.342999e+09</td>\n",
       "      <td>1.357093e+09</td>\n",
       "      <td>1.374592e+09</td>\n",
       "      <td>1.388534e+09</td>\n",
       "      <td>6.315832e+07</td>\n",
       "      <td>3.159306e+07</td>\n",
       "    </tr>\n",
       "    <tr>\n",
       "      <th>merch_lat</th>\n",
       "      <td>1.902779e+01</td>\n",
       "      <td>3.474414e+01</td>\n",
       "      <td>3.936965e+01</td>\n",
       "      <td>4.195856e+01</td>\n",
       "      <td>6.751027e+01</td>\n",
       "      <td>4.848248e+01</td>\n",
       "      <td>7.214427e+00</td>\n",
       "    </tr>\n",
       "    <tr>\n",
       "      <th>merch_long</th>\n",
       "      <td>-1.666712e+02</td>\n",
       "      <td>-9.690138e+01</td>\n",
       "      <td>-8.744308e+01</td>\n",
       "      <td>-8.024942e+01</td>\n",
       "      <td>-6.695090e+01</td>\n",
       "      <td>9.972034e+01</td>\n",
       "      <td>1.665196e+01</td>\n",
       "    </tr>\n",
       "    <tr>\n",
       "      <th>is_fraud</th>\n",
       "      <td>0.000000e+00</td>\n",
       "      <td>0.000000e+00</td>\n",
       "      <td>0.000000e+00</td>\n",
       "      <td>0.000000e+00</td>\n",
       "      <td>1.000000e+00</td>\n",
       "      <td>1.000000e+00</td>\n",
       "      <td>0.000000e+00</td>\n",
       "    </tr>\n",
       "  </tbody>\n",
       "</table>\n",
       "</div>"
      ],
      "text/plain": [
       "                     min            Q1            Q2            Q3  \\\n",
       "cc_num      6.041621e+10  1.800429e+14  3.521417e+15  4.642255e+15   \n",
       "amt         1.000000e+00  9.630000e+00  4.741000e+01  8.304000e+01   \n",
       "zip         1.257000e+03  2.623700e+04  4.817400e+04  7.201100e+04   \n",
       "lat         2.002710e+01  3.466890e+01  3.935430e+01  4.194040e+01   \n",
       "long       -1.656723e+02 -9.679800e+01 -8.747690e+01 -8.017520e+01   \n",
       "city_pop    2.300000e+01  7.410000e+02  2.435000e+03  2.032800e+04   \n",
       "unix_time   1.325376e+09  1.342999e+09  1.357093e+09  1.374592e+09   \n",
       "merch_lat   1.902779e+01  3.474414e+01  3.936965e+01  4.195856e+01   \n",
       "merch_long -1.666712e+02 -9.690138e+01 -8.744308e+01 -8.024942e+01   \n",
       "is_fraud    0.000000e+00  0.000000e+00  0.000000e+00  0.000000e+00   \n",
       "\n",
       "                     max         range           IQR  \n",
       "cc_num      4.992346e+18  4.992346e+18  4.462213e+15  \n",
       "amt         2.894890e+04  2.894790e+04  7.341000e+01  \n",
       "zip         9.992100e+04  9.866400e+04  4.577400e+04  \n",
       "lat         6.669330e+01  4.666620e+01  7.271500e+00  \n",
       "long       -6.795030e+01  9.772200e+01  1.662280e+01  \n",
       "city_pop    2.906700e+06  2.906677e+06  1.958700e+04  \n",
       "unix_time   1.388534e+09  6.315832e+07  3.159306e+07  \n",
       "merch_lat   6.751027e+01  4.848248e+01  7.214427e+00  \n",
       "merch_long -6.695090e+01  9.972034e+01  1.665196e+01  \n",
       "is_fraud    1.000000e+00  1.000000e+00  0.000000e+00  "
      ]
     },
     "execution_count": 58,
     "metadata": {},
     "output_type": "execute_result"
    }
   ],
   "source": [
    "quantile = train[numerical_variables].describe().loc[['min', '25%', '50%', '75%', 'max']].transpose()\n",
    "quantile.columns = ['min', 'Q1', 'Q2', 'Q3', 'max']\n",
    "quantile['range'] = quantile['max'] - quantile['min']\n",
    "quantile['IQR'] = quantile['Q3'] - quantile['Q1']\n",
    "quantile"
   ]
  },
  {
   "cell_type": "code",
   "execution_count": 62,
   "metadata": {},
   "outputs": [
    {
     "data": {
      "text/html": [
       "<div>\n",
       "<style scoped>\n",
       "    .dataframe tbody tr th:only-of-type {\n",
       "        vertical-align: middle;\n",
       "    }\n",
       "\n",
       "    .dataframe tbody tr th {\n",
       "        vertical-align: top;\n",
       "    }\n",
       "\n",
       "    .dataframe thead th {\n",
       "        text-align: right;\n",
       "    }\n",
       "</style>\n",
       "<table border=\"1\" class=\"dataframe\">\n",
       "  <thead>\n",
       "    <tr style=\"text-align: right;\">\n",
       "      <th></th>\n",
       "      <th>mean</th>\n",
       "      <th>std</th>\n",
       "      <th>median</th>\n",
       "      <th>mode</th>\n",
       "      <th>mad</th>\n",
       "      <th>kurtosis</th>\n",
       "      <th>skewness</th>\n",
       "    </tr>\n",
       "  </thead>\n",
       "  <tbody>\n",
       "    <tr>\n",
       "      <th>cc_num</th>\n",
       "      <td>4.176007e+17</td>\n",
       "      <td>1.309380e+18</td>\n",
       "      <td>3.521417e+15</td>\n",
       "      <td>4.642255e+15</td>\n",
       "      <td>3.076471e+15</td>\n",
       "      <td>6.168762</td>\n",
       "      <td>2.849939</td>\n",
       "    </tr>\n",
       "    <tr>\n",
       "      <th>amt</th>\n",
       "      <td>7.008490e+01</td>\n",
       "      <td>1.628042e+02</td>\n",
       "      <td>4.741000e+01</td>\n",
       "      <td>1.140000e+00</td>\n",
       "      <td>3.743000e+01</td>\n",
       "      <td>4745.821264</td>\n",
       "      <td>44.083100</td>\n",
       "    </tr>\n",
       "    <tr>\n",
       "      <th>zip</th>\n",
       "      <td>4.881636e+04</td>\n",
       "      <td>2.687663e+04</td>\n",
       "      <td>4.817400e+04</td>\n",
       "      <td>4.808800e+04</td>\n",
       "      <td>2.305800e+04</td>\n",
       "      <td>-1.095226</td>\n",
       "      <td>0.078953</td>\n",
       "    </tr>\n",
       "    <tr>\n",
       "      <th>lat</th>\n",
       "      <td>3.854065e+01</td>\n",
       "      <td>5.070134e+00</td>\n",
       "      <td>3.935430e+01</td>\n",
       "      <td>4.251640e+01</td>\n",
       "      <td>3.359700e+00</td>\n",
       "      <td>0.793040</td>\n",
       "      <td>-0.193119</td>\n",
       "    </tr>\n",
       "    <tr>\n",
       "      <th>long</th>\n",
       "      <td>-9.023144e+01</td>\n",
       "      <td>1.374897e+01</td>\n",
       "      <td>-8.747690e+01</td>\n",
       "      <td>-8.298320e+01</td>\n",
       "      <td>8.152700e+00</td>\n",
       "      <td>1.837713</td>\n",
       "      <td>-1.147256</td>\n",
       "    </tr>\n",
       "    <tr>\n",
       "      <th>city_pop</th>\n",
       "      <td>8.836546e+04</td>\n",
       "      <td>3.010802e+05</td>\n",
       "      <td>2.435000e+03</td>\n",
       "      <td>6.060000e+02</td>\n",
       "      <td>2.180000e+03</td>\n",
       "      <td>37.778840</td>\n",
       "      <td>5.606287</td>\n",
       "    </tr>\n",
       "    <tr>\n",
       "      <th>unix_time</th>\n",
       "      <td>1.358677e+09</td>\n",
       "      <td>1.820237e+07</td>\n",
       "      <td>1.357093e+09</td>\n",
       "      <td>1.381002e+09</td>\n",
       "      <td>1.580185e+07</td>\n",
       "      <td>-1.200275</td>\n",
       "      <td>-0.019366</td>\n",
       "    </tr>\n",
       "    <tr>\n",
       "      <th>merch_lat</th>\n",
       "      <td>3.854014e+01</td>\n",
       "      <td>5.104269e+00</td>\n",
       "      <td>3.936965e+01</td>\n",
       "      <td>3.384919e+01</td>\n",
       "      <td>3.386277e+00</td>\n",
       "      <td>0.775896</td>\n",
       "      <td>-0.189130</td>\n",
       "    </tr>\n",
       "    <tr>\n",
       "      <th>merch_long</th>\n",
       "      <td>-9.023124e+01</td>\n",
       "      <td>1.376077e+01</td>\n",
       "      <td>-8.744308e+01</td>\n",
       "      <td>-9.651176e+01</td>\n",
       "      <td>8.220304e+00</td>\n",
       "      <td>1.831452</td>\n",
       "      <td>-1.144245</td>\n",
       "    </tr>\n",
       "    <tr>\n",
       "      <th>is_fraud</th>\n",
       "      <td>5.175545e-03</td>\n",
       "      <td>7.175488e-02</td>\n",
       "      <td>0.000000e+00</td>\n",
       "      <td>0.000000e+00</td>\n",
       "      <td>0.000000e+00</td>\n",
       "      <td>188.221564</td>\n",
       "      <td>13.792083</td>\n",
       "    </tr>\n",
       "  </tbody>\n",
       "</table>\n",
       "</div>"
      ],
      "text/plain": [
       "                    mean           std        median          mode  \\\n",
       "cc_num      4.176007e+17  1.309380e+18  3.521417e+15  4.642255e+15   \n",
       "amt         7.008490e+01  1.628042e+02  4.741000e+01  1.140000e+00   \n",
       "zip         4.881636e+04  2.687663e+04  4.817400e+04  4.808800e+04   \n",
       "lat         3.854065e+01  5.070134e+00  3.935430e+01  4.251640e+01   \n",
       "long       -9.023144e+01  1.374897e+01 -8.747690e+01 -8.298320e+01   \n",
       "city_pop    8.836546e+04  3.010802e+05  2.435000e+03  6.060000e+02   \n",
       "unix_time   1.358677e+09  1.820237e+07  1.357093e+09  1.381002e+09   \n",
       "merch_lat   3.854014e+01  5.104269e+00  3.936965e+01  3.384919e+01   \n",
       "merch_long -9.023124e+01  1.376077e+01 -8.744308e+01 -9.651176e+01   \n",
       "is_fraud    5.175545e-03  7.175488e-02  0.000000e+00  0.000000e+00   \n",
       "\n",
       "                     mad     kurtosis   skewness  \n",
       "cc_num      3.076471e+15     6.168762   2.849939  \n",
       "amt         3.743000e+01  4745.821264  44.083100  \n",
       "zip         2.305800e+04    -1.095226   0.078953  \n",
       "lat         3.359700e+00     0.793040  -0.193119  \n",
       "long        8.152700e+00     1.837713  -1.147256  \n",
       "city_pop    2.180000e+03    37.778840   5.606287  \n",
       "unix_time   1.580185e+07    -1.200275  -0.019366  \n",
       "merch_lat   3.386277e+00     0.775896  -0.189130  \n",
       "merch_long  8.220304e+00     1.831452  -1.144245  \n",
       "is_fraud    0.000000e+00   188.221564  13.792083  "
      ]
     },
     "execution_count": 62,
     "metadata": {},
     "output_type": "execute_result"
    }
   ],
   "source": [
    "descriptive_stats = train[numerical_variables].describe().loc[['mean', 'std', '50%']].transpose()\n",
    "descriptive_stats.columns = ['mean', 'std', 'median']\n",
    "descriptive_stats['mode'] = train[numerical_variables].mode().transpose()[0]\n",
    "descriptive_stats['mad'] = [stats.median_abs_deviation(train[x]) for x in numerical_variables]\n",
    "descriptive_stats['kurtosis'] = [stats.kurtosis(train[x]) for x in numerical_variables]\n",
    "descriptive_stats['skewness'] = [stats.skew(train[x]) for x in numerical_variables]\n",
    "\n",
    "descriptive_stats"
   ]
  },
  {
   "cell_type": "code",
   "execution_count": 65,
   "metadata": {},
   "outputs": [
    {
     "data": {
      "image/png": "[encoded data removed]",
      "text/plain": [
       "<Figure size 1440x1152 with 10 Axes>"
      ]
     },
     "metadata": {
      "needs_background": "light"
     },
     "output_type": "display_data"
    }
   ],
   "source": [
    "fig, axs = plt.subplots(5, 2, figsize=(20, 16))\n",
    "\n",
    "axes = [None] * len(numerical_variables)\n",
    "\n",
    "for index, name in enumerate(train[numerical_variables].columns):\n",
    "    axes[index] = axs[index//2, index%2]\n",
    "    train[name].hist(ax=axes[index], bins=20)\n",
    "    axes[index].set_title(name, fontsize=16)\n",
    "\n",
    "plt.tight_layout()\n",
    "plt.show()"
   ]
  },
  {
   "cell_type": "code",
   "execution_count": 1,
   "metadata": {},
   "outputs": [],
   "source": [
    "# f, axes = plt.subplots(6, 2, figsize=(16, 24), sharex=False)\n",
    "\n",
    "# for index, name in enumerate(cat_variables):\n",
    "#     sns.countplot(x=name, data=train, ax=axes[index//2,index%2])\n",
    "#     axes[index//2,index%2].set_title(name, fontsize=20)\n",
    "#     axes[index//2,index%2].set_xticklabels(axes[index//2,index%2].get_xticklabels(), rotation=60)\n",
    "    \n",
    "# plt.tight_layout()\n",
    "#Don't run this unless you have hours to spare, it has to count over a million observations for 11 different categorical variables,\n",
    "#some of which have only unique values"
   ]
  },
  {
   "cell_type": "code",
   "execution_count": null,
   "metadata": {},
   "outputs": [],
   "source": []
  }
 ],
 "metadata": {
  "kernelspec": {
   "display_name": "Python 3",
   "language": "python",
   "name": "python3"
  },
  "language_info": {
   "codemirror_mode": {
    "name": "ipython",
    "version": 3
   },
   "file_extension": ".py",
   "mimetype": "text/x-python",
   "name": "python",
   "nbconvert_exporter": "python",
   "pygments_lexer": "ipython3",
   "version": "3.9.12"
  },
  "orig_nbformat": 4
 },
 "nbformat": 4,
 "nbformat_minor": 2
}
